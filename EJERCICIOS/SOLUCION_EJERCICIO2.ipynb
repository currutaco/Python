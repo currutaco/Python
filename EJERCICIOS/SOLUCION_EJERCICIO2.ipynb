{
 "cells": [
  {
   "cell_type": "markdown",
   "metadata": {},
   "source": [
    "## Realiza el siguiente ejercicio en un cudernillo de Jupyter\n",
    "Saber cómo dar formato a las cadenas es esencial cuando se presenta información de un programa. Hay algunas maneras diferentes de lograr esto en Python.\n",
    "En este ejercicio, se utilizan variables que contienen datos clave sobre usuarios y luego se utilizan para dar formato e imprimir la información.\n",
    "\n",
    "El resultado deseado es similar a la siguiente imagen:\n",
    "\n",
    "![image](https://user-images.githubusercontent.com/91554777/174206918-440767f6-eba2-4aff-8ca4-6652cc374577.png)\n",
    "\n",
    "### Datos con los que vas a trabajar\n",
    "taller = \"Escuela de Código\"\n",
    "\n",
    "folio = 3\n",
    "\n",
    "nombre = \"Juan\"\n",
    "\n",
    "* Primero, crea un título para el texto. Debido a que este texto trata usuarios de un taller, úsalo para crear un título significativo. Utiliza las variables en lugar de escribir.\n",
    "\n",
    "\n"
   ]
  },
  {
   "cell_type": "code",
   "execution_count": 1,
   "metadata": {},
   "outputs": [],
   "source": [
    "taller = \"Escuela de Código\"\n",
    "folio = 3\n",
    "nombre = \"Juan\"\n"
   ]
  },
  {
   "cell_type": "code",
   "execution_count": 2,
   "metadata": {},
   "outputs": [],
   "source": [
    "# Creamos el título\n",
    "titulo = f'usuarios de {taller}'"
   ]
  },
  {
   "cell_type": "code",
   "execution_count": null,
   "metadata": {},
   "outputs": [],
   "source": [
    "# Creamos la plantilla\n",
    "plantilla = f\"\"\"{'-'*80} \n",
    "nombre del usuario: {nombre} \n",
    "folio en {taller}:{folio}\n",
    "\"\"\"\n",
    "print(plantilla)"
   ]
  },
  {
   "cell_type": "code",
   "execution_count": null,
   "metadata": {},
   "outputs": [],
   "source": [
    "# Unimos la plantilla con el título\n",
    "tabla = f\"\"\"{titulo.title()} \n",
    "{plantilla} \n",
    "\"\"\" \n",
    "print(tabla)"
   ]
  },
  {
   "cell_type": "code",
   "execution_count": 6,
   "metadata": {},
   "outputs": [],
   "source": [
    "# Nuevos datos muestra\n",
    "taller = 'Huertos '\n",
    "folio  = 43\n",
    "nombre = 'María'"
   ]
  },
  {
   "cell_type": "code",
   "execution_count": null,
   "metadata": {},
   "outputs": [],
   "source": [
    "# Comprobamos la plantilla\n",
    "print(tabla)"
   ]
  },
  {
   "cell_type": "code",
   "execution_count": null,
   "metadata": {},
   "outputs": [],
   "source": [
    "# como vemos no cambian los datos de la plantilla, debido a fstrings\n",
    "nueva_plantilla = \"\"\"\n",
    "Usuarios de: {taller}\n",
    "-------------------------------------------------------------------------------\n",
    "Nombre del usuario: {nombre}\n",
    "Folio en  {taller}: {folio}\n",
    "\"\"\"\n",
    "print(nueva_plantilla.format(nombre=nombre,folio=folio,taller=taller))"
   ]
  }
 ],
 "metadata": {
  "kernelspec": {
   "display_name": "Python 3.10.2 64-bit (windows store)",
   "language": "python",
   "name": "python3"
  },
  "language_info": {
   "codemirror_mode": {
    "name": "ipython",
    "version": 3
   },
   "file_extension": ".py",
   "mimetype": "text/x-python",
   "name": "python",
   "nbconvert_exporter": "python",
   "pygments_lexer": "ipython3",
   "version": "3.10.2"
  },
  "orig_nbformat": 4,
  "vscode": {
   "interpreter": {
    "hash": "2df53de82fe139b23b9a340061c8527273b7fa86551030a1983ff618b17018eb"
   }
  }
 },
 "nbformat": 4,
 "nbformat_minor": 2
}
